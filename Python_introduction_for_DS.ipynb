{
  "nbformat": 4,
  "nbformat_minor": 0,
  "metadata": {
    "colab": {
      "provenance": [],
      "authorship_tag": "ABX9TyOT39kz2US6/I9ph5yYpseO",
      "include_colab_link": true
    },
    "kernelspec": {
      "name": "python3",
      "display_name": "Python 3"
    },
    "language_info": {
      "name": "python"
    }
  },
  "cells": [
    {
      "cell_type": "markdown",
      "metadata": {
        "id": "view-in-github",
        "colab_type": "text"
      },
      "source": [
        "<a href=\"https://colab.research.google.com/github/SilvanaJ90/alura_Python-for-DataScience-introductions/blob/main/Python_introduction_for_DS.ipynb\" target=\"_parent\"><img src=\"https://colab.research.google.com/assets/colab-badge.svg\" alt=\"Open In Colab\"/></a>"
      ]
    },
    {
      "cell_type": "markdown",
      "source": [
        "#**Python para DS - Introducciòn al Lenguaje**\n",
        "\n"
      ],
      "metadata": {
        "id": "HBRiN_VUAQpI"
      }
    },
    {
      "cell_type": "code",
      "source": [
        "def saludar():\n",
        "  nombre = input('Digita tu nombre: ')\n",
        "  print(f'Hola {nombre} Bienvenid@!!!')\n",
        "\n"
      ],
      "metadata": {
        "id": "C6c3uTu3BKpP"
      },
      "execution_count": 8,
      "outputs": []
    },
    {
      "cell_type": "code",
      "source": [
        "def saludarParametros():\n",
        "  nombre = 'silvana'\n",
        "  print(f'Hola {nombre} Bienvenida!')"
      ],
      "metadata": {
        "id": "E0jsWlqVEZpg"
      },
      "execution_count": 3,
      "outputs": []
    },
    {
      "cell_type": "code",
      "source": [
        "saludar()\n"
      ],
      "metadata": {
        "colab": {
          "base_uri": "https://localhost:8080/"
        },
        "id": "i0pQIM_nGq7G",
        "outputId": "9ce4e1fe-6e2a-4c5d-e983-8baf7eb46745"
      },
      "execution_count": 9,
      "outputs": [
        {
          "output_type": "stream",
          "name": "stdout",
          "text": [
            "Digita tu nombre: Silvana\n",
            "Hola Silvana Bienvenido!!!\n"
          ]
        }
      ]
    },
    {
      "cell_type": "code",
      "source": [
        "saludarParametros()"
      ],
      "metadata": {
        "colab": {
          "base_uri": "https://localhost:8080/"
        },
        "id": "ryMrYYfhEpQq",
        "outputId": "c0a03784-a761-41e2-bc57-992fe10a2598"
      },
      "execution_count": 5,
      "outputs": [
        {
          "output_type": "stream",
          "name": "stdout",
          "text": [
            "Hola silvana Bienvenida!\n"
          ]
        }
      ]
    },
    {
      "cell_type": "code",
      "source": [
        "def velocidad(espacio, tiempo):\n",
        "  promedio = espacio / tiempo\n",
        "  print(f'el promedio es {promedio}')\n"
      ],
      "metadata": {
        "id": "HaqIih4qFhir"
      },
      "execution_count": 27,
      "outputs": []
    },
    {
      "cell_type": "code",
      "source": [
        "  velocidad(100, 20)"
      ],
      "metadata": {
        "colab": {
          "base_uri": "https://localhost:8080/"
        },
        "id": "WpWkz7mTIKoO",
        "outputId": "67d72643-5c02-4b19-da49-e9c746f150ab"
      },
      "execution_count": 28,
      "outputs": [
        {
          "output_type": "stream",
          "name": "stdout",
          "text": [
            "el promedio es 5.0\n"
          ]
        }
      ]
    },
    {
      "cell_type": "code",
      "source": [],
      "metadata": {
        "id": "HPJzfD0mInyV"
      },
      "execution_count": null,
      "outputs": []
    }
  ]
}